{
 "cells": [
  {
   "cell_type": "code",
   "execution_count": 68,
   "metadata": {},
   "outputs": [],
   "source": [
    "import pandas as pd\n",
    "#está ok, pero tengo que pasarlo a una función"
   ]
  },
  {
   "cell_type": "markdown",
   "metadata": {},
   "source": [
    "Carga de datasets"
   ]
  },
  {
   "cell_type": "code",
   "execution_count": 69,
   "metadata": {},
   "outputs": [],
   "source": [
    "music = pd.read_csv(\"Canciones.csv\")\n",
    "adds = pd.read_csv(\"Anuncios.csv\")"
   ]
  },
  {
   "cell_type": "markdown",
   "metadata": {},
   "source": [
    "Revisión y limpieza"
   ]
  },
  {
   "cell_type": "code",
   "execution_count": 70,
   "metadata": {},
   "outputs": [
    {
     "name": "stdout",
     "output_type": "stream",
     "text": [
      "(748, 16)\n",
      "(1244, 7)\n"
     ]
    }
   ],
   "source": [
    "print(music.shape)\n",
    "print(adds.shape)"
   ]
  },
  {
   "cell_type": "code",
   "execution_count": 71,
   "metadata": {},
   "outputs": [
    {
     "name": "stdout",
     "output_type": "stream",
     "text": [
      "Número de NaNs por columna:\n",
      "Canción                  0\n",
      "id_tracks                0\n",
      "Artista/Banda            0\n",
      "Producto                 0\n",
      "Categoría de Producto    0\n",
      "Industria                0\n",
      "Año                      0\n",
      "dtype: int64\n"
     ]
    }
   ],
   "source": [
    "nans_por_columna_adds = adds.isnull().sum()\n",
    "print(\"Número de NaNs por columna:\")\n",
    "print(nans_por_columna_adds)"
   ]
  },
  {
   "cell_type": "code",
   "execution_count": 72,
   "metadata": {},
   "outputs": [
    {
     "data": {
      "text/plain": [
       "Canciones           0\n",
       "id_tracks           0\n",
       "duracion_ms         0\n",
       "popularidad         0\n",
       "acousticness        0\n",
       "danceability        0\n",
       "energy              0\n",
       "instrumentalness    0\n",
       "liveness            0\n",
       "loudness            0\n",
       "speechiness         0\n",
       "tempo               0\n",
       "valence             0\n",
       "key                 0\n",
       "mode                0\n",
       "time_signature      0\n",
       "dtype: int64"
      ]
     },
     "execution_count": 72,
     "metadata": {},
     "output_type": "execute_result"
    }
   ],
   "source": [
    "music.isnull().sum()\n"
   ]
  },
  {
   "cell_type": "code",
   "execution_count": 73,
   "metadata": {},
   "outputs": [
    {
     "data": {
      "text/plain": [
       "Canciones            object\n",
       "id_tracks            object\n",
       "duracion_ms           int64\n",
       "popularidad           int64\n",
       "acousticness          int64\n",
       "danceability          int64\n",
       "energy                int64\n",
       "instrumentalness      int64\n",
       "liveness              int64\n",
       "loudness              int64\n",
       "speechiness           int64\n",
       "tempo                 int64\n",
       "valence               int64\n",
       "key                   int64\n",
       "mode                  int64\n",
       "time_signature      float64\n",
       "dtype: object"
      ]
     },
     "execution_count": 73,
     "metadata": {},
     "output_type": "execute_result"
    }
   ],
   "source": [
    "music.dtypes"
   ]
  },
  {
   "cell_type": "code",
   "execution_count": 74,
   "metadata": {},
   "outputs": [],
   "source": [
    "music = music.replace(',', '.', regex=True)"
   ]
  },
  {
   "cell_type": "code",
   "execution_count": 75,
   "metadata": {},
   "outputs": [],
   "source": [
    "music['popularidad'] = music['popularidad'].astype(int)\n",
    "music['acousticness'] = music['acousticness'].astype(int)\n",
    "music['danceability'] = music['danceability'].astype(int)\n",
    "music['energy'] = music['energy'].astype(int)\n",
    "music['instrumentalness'] = music['instrumentalness'].astype(int)\n",
    "music['liveness'] = music['liveness'].astype(int)\n",
    "music['loudness'] = music['loudness'].astype(int)\n",
    "music['speechiness'] = music['speechiness'].astype(int)\n",
    "music['tempo'] = music['tempo'].astype(int)\n",
    "music['valence'] = music['valence'].astype(int)\n",
    "music['key'] = music['key'].astype(int)\n",
    "music['mode'] = music['mode'].astype(int)"
   ]
  },
  {
   "cell_type": "code",
   "execution_count": 76,
   "metadata": {},
   "outputs": [
    {
     "data": {
      "text/html": [
       "<div>\n",
       "<style scoped>\n",
       "    .dataframe tbody tr th:only-of-type {\n",
       "        vertical-align: middle;\n",
       "    }\n",
       "\n",
       "    .dataframe tbody tr th {\n",
       "        vertical-align: top;\n",
       "    }\n",
       "\n",
       "    .dataframe thead th {\n",
       "        text-align: right;\n",
       "    }\n",
       "</style>\n",
       "<table border=\"1\" class=\"dataframe\">\n",
       "  <thead>\n",
       "    <tr style=\"text-align: right;\">\n",
       "      <th></th>\n",
       "      <th>Canciones</th>\n",
       "      <th>id_tracks</th>\n",
       "      <th>duracion_ms</th>\n",
       "      <th>popularidad</th>\n",
       "      <th>acousticness</th>\n",
       "      <th>danceability</th>\n",
       "      <th>energy</th>\n",
       "      <th>instrumentalness</th>\n",
       "      <th>liveness</th>\n",
       "      <th>loudness</th>\n",
       "      <th>speechiness</th>\n",
       "      <th>tempo</th>\n",
       "      <th>valence</th>\n",
       "      <th>key</th>\n",
       "      <th>mode</th>\n",
       "      <th>time_signature</th>\n",
       "    </tr>\n",
       "  </thead>\n",
       "  <tbody>\n",
       "    <tr>\n",
       "      <th>0</th>\n",
       "      <td>(Everything I Do) I Do It For You</td>\n",
       "      <td>5HQ6AUDMbMuwktvcNPuV1y</td>\n",
       "      <td>398026</td>\n",
       "      <td>38</td>\n",
       "      <td>648</td>\n",
       "      <td>521</td>\n",
       "      <td>349</td>\n",
       "      <td>133</td>\n",
       "      <td>55</td>\n",
       "      <td>-13</td>\n",
       "      <td>289</td>\n",
       "      <td>131</td>\n",
       "      <td>273</td>\n",
       "      <td>1</td>\n",
       "      <td>1</td>\n",
       "      <td>4.0</td>\n",
       "    </tr>\n",
       "    <tr>\n",
       "      <th>1</th>\n",
       "      <td>(Sittin' On) the Dock of the Bay</td>\n",
       "      <td>3zBhihYUHBmGd2bcQIobrF</td>\n",
       "      <td>163755</td>\n",
       "      <td>82</td>\n",
       "      <td>683</td>\n",
       "      <td>768</td>\n",
       "      <td>367</td>\n",
       "      <td>179</td>\n",
       "      <td>81</td>\n",
       "      <td>-11</td>\n",
       "      <td>315</td>\n",
       "      <td>103</td>\n",
       "      <td>532</td>\n",
       "      <td>2</td>\n",
       "      <td>1</td>\n",
       "      <td>4.0</td>\n",
       "    </tr>\n",
       "    <tr>\n",
       "      <th>2</th>\n",
       "      <td>2 Hearts</td>\n",
       "      <td>1OODa4x3P0DarexE3Uc2a8</td>\n",
       "      <td>173546</td>\n",
       "      <td>11</td>\n",
       "      <td>861</td>\n",
       "      <td>0</td>\n",
       "      <td>583</td>\n",
       "      <td>681</td>\n",
       "      <td>49</td>\n",
       "      <td>-6</td>\n",
       "      <td>35</td>\n",
       "      <td>112</td>\n",
       "      <td>491</td>\n",
       "      <td>9</td>\n",
       "      <td>0</td>\n",
       "      <td>4.0</td>\n",
       "    </tr>\n",
       "    <tr>\n",
       "      <th>3</th>\n",
       "      <td>5 Years Time</td>\n",
       "      <td>1Wl8eGdNRODM6p8LYP2ACB</td>\n",
       "      <td>215013</td>\n",
       "      <td>0</td>\n",
       "      <td>416</td>\n",
       "      <td>803</td>\n",
       "      <td>0</td>\n",
       "      <td>0</td>\n",
       "      <td>85</td>\n",
       "      <td>-7</td>\n",
       "      <td>105</td>\n",
       "      <td>121</td>\n",
       "      <td>763</td>\n",
       "      <td>0</td>\n",
       "      <td>1</td>\n",
       "      <td>4.0</td>\n",
       "    </tr>\n",
       "    <tr>\n",
       "      <th>4</th>\n",
       "      <td>A 1000 por Hora (En Vivo)</td>\n",
       "      <td>2h8gxXvnC6MAvLnNUnNzgl</td>\n",
       "      <td>201422</td>\n",
       "      <td>39</td>\n",
       "      <td>673</td>\n",
       "      <td>513</td>\n",
       "      <td>897</td>\n",
       "      <td>0</td>\n",
       "      <td>986</td>\n",
       "      <td>-6</td>\n",
       "      <td>659</td>\n",
       "      <td>92</td>\n",
       "      <td>732</td>\n",
       "      <td>0</td>\n",
       "      <td>1</td>\n",
       "      <td>4.0</td>\n",
       "    </tr>\n",
       "    <tr>\n",
       "      <th>...</th>\n",
       "      <td>...</td>\n",
       "      <td>...</td>\n",
       "      <td>...</td>\n",
       "      <td>...</td>\n",
       "      <td>...</td>\n",
       "      <td>...</td>\n",
       "      <td>...</td>\n",
       "      <td>...</td>\n",
       "      <td>...</td>\n",
       "      <td>...</td>\n",
       "      <td>...</td>\n",
       "      <td>...</td>\n",
       "      <td>...</td>\n",
       "      <td>...</td>\n",
       "      <td>...</td>\n",
       "      <td>...</td>\n",
       "    </tr>\n",
       "    <tr>\n",
       "      <th>743</th>\n",
       "      <td>You Sexy Thing</td>\n",
       "      <td>714hERk9U1W8FMYkoC83CO</td>\n",
       "      <td>244920</td>\n",
       "      <td>73</td>\n",
       "      <td>523</td>\n",
       "      <td>791</td>\n",
       "      <td>733</td>\n",
       "      <td>16</td>\n",
       "      <td>167</td>\n",
       "      <td>-5</td>\n",
       "      <td>633</td>\n",
       "      <td>105</td>\n",
       "      <td>962</td>\n",
       "      <td>5</td>\n",
       "      <td>1</td>\n",
       "      <td>4.0</td>\n",
       "    </tr>\n",
       "    <tr>\n",
       "      <th>744</th>\n",
       "      <td>You To Me Are Everything</td>\n",
       "      <td>6E3Yn318JAqGvNVfsknW6E</td>\n",
       "      <td>212800</td>\n",
       "      <td>0</td>\n",
       "      <td>401</td>\n",
       "      <td>606</td>\n",
       "      <td>733</td>\n",
       "      <td>0</td>\n",
       "      <td>133</td>\n",
       "      <td>-7</td>\n",
       "      <td>433</td>\n",
       "      <td>101</td>\n",
       "      <td>944</td>\n",
       "      <td>0</td>\n",
       "      <td>1</td>\n",
       "      <td>4.0</td>\n",
       "    </tr>\n",
       "    <tr>\n",
       "      <th>745</th>\n",
       "      <td>You're Only Lonely</td>\n",
       "      <td>0qzEkwri1hE0rgxVqdOBAf</td>\n",
       "      <td>228000</td>\n",
       "      <td>46</td>\n",
       "      <td>263</td>\n",
       "      <td>591</td>\n",
       "      <td>514</td>\n",
       "      <td>78</td>\n",
       "      <td>797</td>\n",
       "      <td>-10</td>\n",
       "      <td>256</td>\n",
       "      <td>108</td>\n",
       "      <td>658</td>\n",
       "      <td>9</td>\n",
       "      <td>1</td>\n",
       "      <td>4.0</td>\n",
       "    </tr>\n",
       "    <tr>\n",
       "      <th>746</th>\n",
       "      <td>Your Song</td>\n",
       "      <td>38zsOOcu31XbbYj9BIPUF1</td>\n",
       "      <td>241786</td>\n",
       "      <td>80</td>\n",
       "      <td>828</td>\n",
       "      <td>552</td>\n",
       "      <td>315</td>\n",
       "      <td>552</td>\n",
       "      <td>101</td>\n",
       "      <td>-11</td>\n",
       "      <td>299</td>\n",
       "      <td>128</td>\n",
       "      <td>324</td>\n",
       "      <td>3</td>\n",
       "      <td>1</td>\n",
       "      <td>4.0</td>\n",
       "    </tr>\n",
       "    <tr>\n",
       "      <th>747</th>\n",
       "      <td>Zou Bisou Bisou</td>\n",
       "      <td>0uXaqBGpEIYzu2HggSMJ4d</td>\n",
       "      <td>135653</td>\n",
       "      <td>0</td>\n",
       "      <td>889</td>\n",
       "      <td>769</td>\n",
       "      <td>483</td>\n",
       "      <td>102</td>\n",
       "      <td>626</td>\n",
       "      <td>-9</td>\n",
       "      <td>381</td>\n",
       "      <td>130</td>\n",
       "      <td>839</td>\n",
       "      <td>8</td>\n",
       "      <td>1</td>\n",
       "      <td>4.0</td>\n",
       "    </tr>\n",
       "  </tbody>\n",
       "</table>\n",
       "<p>748 rows × 16 columns</p>\n",
       "</div>"
      ],
      "text/plain": [
       "                             Canciones               id_tracks  duracion_ms  \\\n",
       "0    (Everything I Do) I Do It For You  5HQ6AUDMbMuwktvcNPuV1y       398026   \n",
       "1     (Sittin' On) the Dock of the Bay  3zBhihYUHBmGd2bcQIobrF       163755   \n",
       "2                             2 Hearts  1OODa4x3P0DarexE3Uc2a8       173546   \n",
       "3                         5 Years Time  1Wl8eGdNRODM6p8LYP2ACB       215013   \n",
       "4            A 1000 por Hora (En Vivo)  2h8gxXvnC6MAvLnNUnNzgl       201422   \n",
       "..                                 ...                     ...          ...   \n",
       "743                     You Sexy Thing  714hERk9U1W8FMYkoC83CO       244920   \n",
       "744           You To Me Are Everything  6E3Yn318JAqGvNVfsknW6E       212800   \n",
       "745                 You're Only Lonely  0qzEkwri1hE0rgxVqdOBAf       228000   \n",
       "746                          Your Song  38zsOOcu31XbbYj9BIPUF1       241786   \n",
       "747                    Zou Bisou Bisou  0uXaqBGpEIYzu2HggSMJ4d       135653   \n",
       "\n",
       "     popularidad  acousticness  danceability  energy  instrumentalness  \\\n",
       "0             38           648           521     349               133   \n",
       "1             82           683           768     367               179   \n",
       "2             11           861             0     583               681   \n",
       "3              0           416           803       0                 0   \n",
       "4             39           673           513     897                 0   \n",
       "..           ...           ...           ...     ...               ...   \n",
       "743           73           523           791     733                16   \n",
       "744            0           401           606     733                 0   \n",
       "745           46           263           591     514                78   \n",
       "746           80           828           552     315               552   \n",
       "747            0           889           769     483               102   \n",
       "\n",
       "     liveness  loudness  speechiness  tempo  valence  key  mode  \\\n",
       "0          55       -13          289    131      273    1     1   \n",
       "1          81       -11          315    103      532    2     1   \n",
       "2          49        -6           35    112      491    9     0   \n",
       "3          85        -7          105    121      763    0     1   \n",
       "4         986        -6          659     92      732    0     1   \n",
       "..        ...       ...          ...    ...      ...  ...   ...   \n",
       "743       167        -5          633    105      962    5     1   \n",
       "744       133        -7          433    101      944    0     1   \n",
       "745       797       -10          256    108      658    9     1   \n",
       "746       101       -11          299    128      324    3     1   \n",
       "747       626        -9          381    130      839    8     1   \n",
       "\n",
       "     time_signature  \n",
       "0               4.0  \n",
       "1               4.0  \n",
       "2               4.0  \n",
       "3               4.0  \n",
       "4               4.0  \n",
       "..              ...  \n",
       "743             4.0  \n",
       "744             4.0  \n",
       "745             4.0  \n",
       "746             4.0  \n",
       "747             4.0  \n",
       "\n",
       "[748 rows x 16 columns]"
      ]
     },
     "execution_count": 76,
     "metadata": {},
     "output_type": "execute_result"
    }
   ],
   "source": [
    "music"
   ]
  },
  {
   "cell_type": "code",
   "execution_count": 77,
   "metadata": {},
   "outputs": [],
   "source": [
    "#music.to_csv('Canciones.csv', index=False)"
   ]
  },
  {
   "cell_type": "code",
   "execution_count": 79,
   "metadata": {},
   "outputs": [
    {
     "data": {
      "text/plain": [
       "5"
      ]
     },
     "execution_count": 79,
     "metadata": {},
     "output_type": "execute_result"
    }
   ],
   "source": [
    "adds.duplicated().sum()"
   ]
  }
 ],
 "metadata": {
  "kernelspec": {
   "display_name": "base",
   "language": "python",
   "name": "python3"
  },
  "language_info": {
   "codemirror_mode": {
    "name": "ipython",
    "version": 3
   },
   "file_extension": ".py",
   "mimetype": "text/x-python",
   "name": "python",
   "nbconvert_exporter": "python",
   "pygments_lexer": "ipython3",
   "version": "3.11.7"
  }
 },
 "nbformat": 4,
 "nbformat_minor": 2
}
